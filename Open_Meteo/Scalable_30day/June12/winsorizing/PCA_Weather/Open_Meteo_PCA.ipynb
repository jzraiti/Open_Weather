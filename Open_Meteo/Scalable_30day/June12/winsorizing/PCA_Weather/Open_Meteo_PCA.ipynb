{
 "cells": [
  {
   "cell_type": "code",
   "execution_count": null,
   "id": "fd930ad9",
   "metadata": {},
   "outputs": [],
   "source": [
    "import pandas as pd\n",
    "from scipy.stats import zscore\n",
    "import matplotlib.pyplot as plt\n",
    "import seaborn as sns\n",
    "import numpy as np\n",
    "\n",
    "\n",
    "\n",
    "# === Load Data ===\n",
    "file_path = \"/Users/jasonraiti/Documents/GitHub/Open_Weather/Open_Weather/Open_Meteo/Scalable_30day/June12/winsorizing/PCA_Weather/aggregated_30d_with_zscores.csv\"\n",
    "df_raw = pd.read_csv(file_path)\n",
    "\n",
    "# Load the PCA components"
   ]
  },
  {
   "cell_type": "code",
   "execution_count": null,
   "id": "a0188dcf",
   "metadata": {},
   "outputs": [],
   "source": []
  }
 ],
 "metadata": {
  "kernelspec": {
   "display_name": "open_weather",
   "language": "python",
   "name": "python3"
  },
  "language_info": {
   "codemirror_mode": {
    "name": "ipython",
    "version": 3
   },
   "file_extension": ".py",
   "mimetype": "text/x-python",
   "name": "python",
   "nbconvert_exporter": "python",
   "pygments_lexer": "ipython3",
   "version": "3.11.12"
  }
 },
 "nbformat": 4,
 "nbformat_minor": 5
}
