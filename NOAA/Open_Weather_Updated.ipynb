{
 "cells": [
  {
   "cell_type": "code",
   "execution_count": 1,
   "id": "a1f94ca9",
   "metadata": {},
   "outputs": [
    {
     "name": "stdout",
     "output_type": "stream",
     "text": [
      "NOAA Token loaded successfully: xoMBEjEaGDOQpPljQjueOOokNPPpmFqN\n"
     ]
    }
   ],
   "source": [
    "\n",
    "import pandas as pd\n",
    "import requests\n",
    "import time\n",
    "import math\n",
    "\n",
    "# Load your data\n",
    "df = pd.read_csv('test.csv')\n",
    "\n",
    "# Load NOAA API token from file\n",
    "with open('API_token.txt', 'r') as token_file:\n",
    "    NOAA_TOKEN = token_file.read().strip()\n",
    "\n",
    "print(\"NOAA Token loaded successfully: \" + NOAA_TOKEN)\n",
    "\n",
    "BASE_URL = \"https://www.ncei.noaa.gov/cdo-web/api/v2/data\"\n",
    "HEADERS = {\"token\": NOAA_TOKEN}\n"
   ]
  },
  {
   "cell_type": "code",
   "execution_count": 2,
   "id": "8711abb2",
   "metadata": {},
   "outputs": [],
   "source": [
    "\n",
    "def parse_response_for_errors(response):\n",
    "    if response.status_code != 200:\n",
    "        print(\"Error detected in response:\")\n",
    "        print(f\"Status Code: {response.status_code}\")\n",
    "        print(f\"URL: {response.url}\")\n",
    "        print(f\"Response Text: {response.text}\")\n",
    "        try:\n",
    "            error_details = response.json()\n",
    "            print(\"Error Details:\", error_details)\n",
    "        except ValueError:\n",
    "            print(\"Response is not in JSON format.\")\n",
    "        return True\n",
    "    return False\n",
    "\n",
    "def make_request(url, params, retries=5):\n",
    "    for attempt in range(retries):\n",
    "        response = requests.get(url, headers=HEADERS, params=params)\n",
    "        if response.status_code == 503:\n",
    "            print(f\"503 Service Unavailable. Retrying in {2 ** attempt} seconds...\")\n",
    "            time.sleep(2 ** attempt)\n",
    "            continue\n",
    "        return response\n",
    "    print(\"Failed after retries. Server is unavailable.\")\n",
    "    return None\n",
    "\n",
    "\n"
   ]
  },
  {
   "cell_type": "code",
   "execution_count": 3,
   "id": "ded5fa82",
   "metadata": {},
   "outputs": [],
   "source": [
    "\n",
    "\n",
    "def calculate_distance(lat1, lon1, lat2, lon2):\n",
    "    # Calculate the distance between two points using the Haversine formula\n",
    "    R = 6371  # Radius of the Earth in kilometers\n",
    "    dlat = math.radians(lat2 - lat1)\n",
    "    dlon = math.radians(lon2 - lon1)\n",
    "    a = math.sin(dlat / 2)**2 + math.cos(math.radians(lat1)) * math.cos(math.radians(lat2)) * math.sin(dlon / 2)**2\n",
    "    c = 2 * math.atan2(math.sqrt(a), math.sqrt(1 - a))\n",
    "    return R * c\n",
    "\n",
    "def fetch_weather_data(lat, lon, start_date, end_date, datasetid=\"GHCND\", datatypeid=\"TAVG\", limit=1000, retries=5):\n",
    "    stations_url = \"https://www.ncei.noaa.gov/cdo-web/api/v2/stations\"\n",
    "    params = {\n",
    "        \"datasetid\": datasetid,\n",
    "        \"limit\": 100,  # Fetch multiple stations to find the closest one\n",
    "        \"latitude\": lat,\n",
    "        \"longitude\": lon,\n",
    "        \"sortfield\": \"datacoverage\"  # Sort by data coverage\n",
    "    }\n",
    "    print(\"Fetching station data with parameters:\", params)\n",
    "    response = make_request(stations_url, params, retries=retries)\n",
    "    if not response or parse_response_for_errors(response):\n",
    "        print(\"Failed to fetch station data.\")\n",
    "        print(\"Response:\", response.text if response else \"No response\")\n",
    "        return None\n",
    "\n",
    "    stations = response.json().get('results')\n",
    "    if not stations:\n",
    "        print(\"No stations found near:\", lat, lon)\n",
    "        return None\n",
    "\n",
    "    # Find the closest station manually\n",
    "    closest_station = min(stations, key=lambda station: calculate_distance(lat, lon, station['latitude'], station['longitude']))\n",
    "    station_id = closest_station['id']\n",
    "    print(\"Closest Station ID:\", station_id)\n",
    "    print(\"Closest Station Name:\", closest_station['name'])\n",
    "\n",
    "    # Continue fetching weather data for the closest station...\n",
    "    all_results = []\n",
    "    offset = 1\n",
    "    while True:\n",
    "        data_params = {\n",
    "            \"datasetid\": datasetid,\n",
    "            \"datatypeid\": datatypeid,\n",
    "            \"stationid\": station_id,\n",
    "            \"startdate\": start_date,\n",
    "            \"enddate\": end_date,\n",
    "            \"limit\": limit,\n",
    "            \"units\": \"metric\",\n",
    "            \"offset\": offset\n",
    "        }\n",
    "        response = make_request(BASE_URL, data_params, retries=retries)\n",
    "        if not response or parse_response_for_errors(response):\n",
    "            print(\"Failed to fetch weather data. Check your parameters or API limits.\")\n",
    "            return None\n",
    "\n",
    "        results = response.json().get(\"results\", [])\n",
    "        all_results.extend(results)\n",
    "\n",
    "        if len(results) < limit:\n",
    "            break\n",
    "        offset += limit\n",
    "    print(f\"Fetched {len(all_results)} records for station {station_id} from {start_date} to {end_date}.\")\n",
    "    return all_results"
   ]
  },
  {
   "cell_type": "code",
   "execution_count": 4,
   "id": "5e5aaa69",
   "metadata": {},
   "outputs": [
    {
     "name": "stdout",
     "output_type": "stream",
     "text": [
      "Fetching station data with parameters: {'datasetid': 'GHCND', 'limit': 100, 'latitude': 43.0731, 'longitude': -89.4012, 'sortfield': 'datacoverage'}\n",
      "Closest Station ID: GHCND:USC00470519\n",
      "Closest Station Name: BARABOO RIVER AT WEST BARABOO, WI US\n",
      "Fetched 0 records for station GHCND:USC00470519 from 2023-01-01 to 2023-01-31.\n",
      "Sample Weather Data: []\n"
     ]
    }
   ],
   "source": [
    "\n",
    "# Sample query to test the function\n",
    "sample_lat = 43.0731\n",
    "sample_lon = -89.4012  # Madison, WI\n",
    "sample_start_date = \"2023-01-01\"\n",
    "sample_end_date = \"2023-01-31\"\n",
    "\n",
    "# Fetch weather data for the sample query\n",
    "sample_weather_data = fetch_weather_data(\n",
    "    lat=sample_lat,\n",
    "    lon=sample_lon,\n",
    "    start_date=sample_start_date,\n",
    "    end_date=sample_end_date\n",
    ")\n",
    "\n",
    "print(\"Sample Weather Data:\", sample_weather_data)\n"
   ]
  },
  {
   "cell_type": "code",
   "execution_count": null,
   "id": "8e2deb88",
   "metadata": {},
   "outputs": [],
   "source": []
  },
  {
   "cell_type": "code",
   "execution_count": null,
   "id": "fb39826f",
   "metadata": {},
   "outputs": [],
   "source": []
  }
 ],
 "metadata": {
  "kernelspec": {
   "display_name": "open_weather",
   "language": "python",
   "name": "python3"
  },
  "language_info": {
   "codemirror_mode": {
    "name": "ipython",
    "version": 3
   },
   "file_extension": ".py",
   "mimetype": "text/x-python",
   "name": "python",
   "nbconvert_exporter": "python",
   "pygments_lexer": "ipython3",
   "version": "3.11.12"
  }
 },
 "nbformat": 4,
 "nbformat_minor": 5
}
