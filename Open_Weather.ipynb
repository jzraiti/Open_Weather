{
 "cells": [
  {
   "cell_type": "code",
   "execution_count": 1,
   "id": "759ef215",
   "metadata": {},
   "outputs": [],
   "source": [
    "import pandas as pd\n",
    "import requests\n",
    "import time\n"
   ]
  },
  {
   "cell_type": "code",
   "execution_count": null,
   "id": "b72ac5c4",
   "metadata": {},
   "outputs": [],
   "source": [
    "\n",
    "# Load your data\n",
    "df = pd.read_csv('your_file.csv')\n",
    "\n",
    "# NOAA API settings\n",
    "NOAA_TOKEN = \"YOUR_NOAA_API_TOKEN\"\n",
    "\n"
   ]
  },
  {
   "cell_type": "code",
   "execution_count": null,
   "id": "cd81cf16",
   "metadata": {},
   "outputs": [],
   "source": [
    "\n",
    "BASE_URL = \"https://www.ncei.noaa.gov/cdo-web/api/v2/data\"\n",
    "HEADERS = {\"token\": NOAA_TOKEN}\n",
    "\n",
    "def fetch_weather_data(lat, lon, start_date, end_date, datasetid=\"GHCND\", datatypeid=\"TAVG\", limit=1000):\n",
    "    # Find nearest station first (you could also cache this)\n",
    "    stations_url = \"https://www.ncei.noaa.gov/cdo-web/api/v2/stations\"\n",
    "    params = {\n",
    "        \"datasetid\": datasetid,\n",
    "        \"limit\": 1,\n",
    "        \"sortfield\": \"distance\",\n",
    "        \"sortorder\": \"asc\",\n",
    "        \"latitude\": lat,\n",
    "        \"longitude\": lon,\n",
    "    }\n",
    "    response = requests.get(stations_url, headers=HEADERS, params=params)\n",
    "    response.raise_for_status()\n",
    "    station_id = response.json()['results'][0]['id']\n",
    "    \n",
    "    # Now get the weather data\n",
    "    data_params = {\n",
    "        \"datasetid\": datasetid,\n",
    "        \"datatypeid\": datatypeid,\n",
    "        \"stationid\": station_id,\n",
    "        \"startdate\": start_date,\n",
    "        \"enddate\": end_date,\n",
    "        \"limit\": limit,\n",
    "        \"units\": \"metric\"\n",
    "    }\n",
    "    \n",
    "    response = requests.get(BASE_URL, headers=HEADERS, params=data_params)\n",
    "    if response.status_code != 200:\n",
    "        return None\n",
    "    return response.json().get(\"results\", [])\n",
    "\n",
    "# Example: process the DataFrame row by row and add results\n",
    "weather_data = []\n",
    "\n",
    "for _, row in df.iterrows():\n",
    "    result = fetch_weather_data(\n",
    "        lat=row[\"latitude\"],\n",
    "        lon=row[\"longitude\"],\n",
    "        start_date=row[\"start_date\"],\n",
    "        end_date=row[\"end_date\"]\n",
    "    )\n",
    "    weather_data.append(result)\n",
    "    time.sleep(1)  # Avoid rate limiting\n",
    "\n",
    "df[\"weather\"] = weather_data\n",
    "\n",
    "# Save to new file\n",
    "df.to_csv(\"weather_data_filled.csv\", index=False)\n"
   ]
  }
 ],
 "metadata": {
  "kernelspec": {
   "display_name": "open_weather",
   "language": "python",
   "name": "python3"
  },
  "language_info": {
   "codemirror_mode": {
    "name": "ipython",
    "version": 3
   },
   "file_extension": ".py",
   "mimetype": "text/x-python",
   "name": "python",
   "nbconvert_exporter": "python",
   "pygments_lexer": "ipython3",
   "version": "3.11.12"
  }
 },
 "nbformat": 4,
 "nbformat_minor": 5
}
