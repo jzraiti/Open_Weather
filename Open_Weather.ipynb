{
 "cells": [
  {
   "cell_type": "code",
   "execution_count": 13,
   "id": "759ef215",
   "metadata": {},
   "outputs": [],
   "source": [
    "import pandas as pd\n",
    "import requests\n",
    "import time\n"
   ]
  },
  {
   "cell_type": "code",
   "execution_count": 14,
   "id": "b72ac5c4",
   "metadata": {},
   "outputs": [
    {
     "name": "stdout",
     "output_type": "stream",
     "text": [
      "NOAA Token loaded successfully: xoMBEjEaGDOQpPljQjueOOokNPPpmFqN\n"
     ]
    }
   ],
   "source": [
    "\n",
    "# Load your data\n",
    "df = pd.read_csv('test.csv')\n",
    "\n",
    "# Load NOAA API token from file\n",
    "with open('API_token.txt', 'r') as token_file:\n",
    "    NOAA_TOKEN = token_file.read().strip()\n",
    "\n",
    "print(\"NOAA Token loaded successfully: \" + NOAA_TOKEN)\n",
    "\n",
    "\n"
   ]
  },
  {
   "cell_type": "code",
   "execution_count": 15,
   "id": "cd81cf16",
   "metadata": {},
   "outputs": [],
   "source": [
    "\n",
    "BASE_URL = \"https://www.ncei.noaa.gov/cdo-web/api/v2/data\"\n",
    "HEADERS = {\"token\": NOAA_TOKEN}\n",
    "\n",
    "def fetch_weather_data(lat, lon, start_date, end_date, datasetid=\"GHCND\", datatypeid=\"TAVG\", limit=1000):\n",
    "    # Find nearest station first (you could also cache this)\n",
    "    stations_url = \"https://www.ncei.noaa.gov/cdo-web/api/v2/stations\"\n",
    "    params = {\n",
    "        \"datasetid\": datasetid,\n",
    "        \"limit\": 1,\n",
    "        \"latitude\": lat,\n",
    "        \"longitude\": lon,\n",
    "    }\n",
    "    response = requests.get(stations_url, headers=HEADERS, params=params)\n",
    "    if response.status_code != 200:\n",
    "        print(\"Station query failed with:\", response.status_code)\n",
    "        print(\"URL:\", response.url)\n",
    "        print(\"Response:\", response.text)\n",
    "        response.raise_for_status()\n",
    "    \n",
    "    stations = response.json().get('results')\n",
    "    if not stations:\n",
    "        print(\"No stations found near:\", lat, lon)\n",
    "        return None\n",
    "    \n",
    "    station_id = response.json()['results'][0]['id']\n",
    "    \n",
    "    # Now get the weather data\n",
    "    data_params = {\n",
    "        \"datasetid\": datasetid,\n",
    "        \"datatypeid\": datatypeid,\n",
    "        \"stationid\": station_id,\n",
    "        \"startdate\": start_date,\n",
    "        \"enddate\": end_date,\n",
    "        \"limit\": limit,\n",
    "        \"units\": \"metric\"\n",
    "    }\n",
    "    \n",
    "    response = requests.get(BASE_URL, headers=HEADERS, params=data_params)\n",
    "    if response.status_code != 200:\n",
    "        print(\"Weather data fetch failed:\", response.text)\n",
    "        return None\n",
    "\n",
    "    return response.json().get(\"results\", [])\n"
   ]
  },
  {
   "cell_type": "code",
   "execution_count": 17,
   "id": "347eeeb0",
   "metadata": {},
   "outputs": [
    {
     "name": "stdout",
     "output_type": "stream",
     "text": [
      "Sample Weather Data: []\n"
     ]
    }
   ],
   "source": [
    "# Sample query to test the function\n",
    "sample_lat = 43.0731\n",
    "sample_lon = -89.4012 #madison, WI\n",
    "sample_start_date = \"2023-01-01\"\n",
    "sample_end_date = \"2023-01-31\"\n",
    "\n",
    "# Fetch weather data for the sample query\n",
    "sample_weather_data = fetch_weather_data(\n",
    "    lat=sample_lat,\n",
    "    lon=sample_lon,\n",
    "    start_date=sample_start_date,\n",
    "    end_date=sample_end_date\n",
    ")\n",
    "\n",
    "# Print the sample weather data\n",
    "print(\"Sample Weather Data:\", sample_weather_data)"
   ]
  },
  {
   "cell_type": "code",
   "execution_count": null,
   "id": "010af23f",
   "metadata": {},
   "outputs": [],
   "source": [
    "# Example: process the DataFrame row by row and add results\n",
    "weather_data = []\n",
    "\n",
    "for _, row in df.iterrows():\n",
    "    result = fetch_weather_data(\n",
    "        lat=row[\"latitude\"],\n",
    "        lon=row[\"longitude\"],\n",
    "        start_date=row[\"start_date\"],\n",
    "        end_date=row[\"end_date\"]\n",
    "    )\n",
    "    weather_data.append(result)\n",
    "    time.sleep(1)  # Avoid rate limiting\n",
    "\n",
    "df[\"weather\"] = weather_data\n",
    "\n",
    "# Save to new file\n",
    "df.to_csv(\"weather_data_filled.csv\", index=False)"
   ]
  }
 ],
 "metadata": {
  "kernelspec": {
   "display_name": "open_weather",
   "language": "python",
   "name": "python3"
  },
  "language_info": {
   "codemirror_mode": {
    "name": "ipython",
    "version": 3
   },
   "file_extension": ".py",
   "mimetype": "text/x-python",
   "name": "python",
   "nbconvert_exporter": "python",
   "pygments_lexer": "ipython3",
   "version": "3.11.12"
  }
 },
 "nbformat": 4,
 "nbformat_minor": 5
}
